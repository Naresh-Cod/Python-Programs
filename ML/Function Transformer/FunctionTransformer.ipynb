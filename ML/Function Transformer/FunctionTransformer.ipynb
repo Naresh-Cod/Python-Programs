{
 "cells": [
  {
   "cell_type": "code",
   "execution_count": null,
   "id": "c921edc9-0881-46ac-839a-fe777c27c9bf",
   "metadata": {},
   "outputs": [],
   "source": []
  },
  {
   "cell_type": "code",
   "execution_count": 4,
   "id": "37a15e74-2658-419c-97b2-751d6809ca8e",
   "metadata": {},
   "outputs": [],
   "source": [
    "from sklearn.preprocessing import FunctionTransformer\n",
    "import numpy as np"
   ]
  },
  {
   "cell_type": "code",
   "execution_count": 5,
   "id": "9f1d53af-4e85-4520-be21-8e573cc5f31d",
   "metadata": {},
   "outputs": [],
   "source": [
    "X = np.array([[1, 2], [3, 4]])"
   ]
  },
  {
   "cell_type": "code",
   "execution_count": 6,
   "id": "1a93d407-fe6b-4c0a-89e1-8e6015d7cfd9",
   "metadata": {},
   "outputs": [],
   "source": [
    "log_transform =FunctionTransformer(np.log1p)"
   ]
  },
  {
   "cell_type": "code",
   "execution_count": 7,
   "id": "f33ec1a4-08a2-4cb9-ab28-44572f1271da",
   "metadata": {},
   "outputs": [],
   "source": [
    "X_transformed = log_transform.transform(X)"
   ]
  },
  {
   "cell_type": "code",
   "execution_count": 8,
   "id": "0c722cca-244d-41b3-87ad-1ffa85880435",
   "metadata": {},
   "outputs": [
    {
     "name": "stdout",
     "output_type": "stream",
     "text": [
      "[[0.69314718 1.09861229]\n",
      " [1.38629436 1.60943791]]\n"
     ]
    }
   ],
   "source": [
    "print(X_transformed)"
   ]
  },
  {
   "cell_type": "code",
   "execution_count": null,
   "id": "fd0b011d-75d2-46a1-82e1-946a3cd49c9d",
   "metadata": {},
   "outputs": [],
   "source": []
  },
  {
   "cell_type": "code",
   "execution_count": null,
   "id": "6f89bb91-fc1b-4275-827c-57cc57a5ae36",
   "metadata": {},
   "outputs": [],
   "source": []
  },
  {
   "cell_type": "code",
   "execution_count": 9,
   "id": "2cafb46b-db1b-4099-bb96-84564ccdf6bd",
   "metadata": {},
   "outputs": [],
   "source": [
    "from sklearn.preprocessing import FunctionTransformer\n",
    "import numpy as np"
   ]
  },
  {
   "cell_type": "code",
   "execution_count": 11,
   "id": "02448559-93c2-4417-b488-f820aa1bbdfb",
   "metadata": {},
   "outputs": [],
   "source": [
    "x = np.array([[1, 2], [3, 4]])"
   ]
  },
  {
   "cell_type": "code",
   "execution_count": 12,
   "id": "60c294a5-fea5-4019-858b-a11dac734f69",
   "metadata": {},
   "outputs": [],
   "source": [
    "def sakrat_14(x):\n",
    "    return np.hstack((x, x**2))"
   ]
  },
  {
   "cell_type": "code",
   "execution_count": 13,
   "id": "050abc7b-89cd-4f9c-b579-c8d7fd604a8e",
   "metadata": {},
   "outputs": [],
   "source": [
    "custom_transformer = FunctionTransformer(sakrat_14)"
   ]
  },
  {
   "cell_type": "code",
   "execution_count": 14,
   "id": "658a7b9d-7aee-4809-9c6d-3ce0e2c4c954",
   "metadata": {},
   "outputs": [],
   "source": [
    "x_transformed = custom_transformer.transform(x)"
   ]
  },
  {
   "cell_type": "code",
   "execution_count": 15,
   "id": "845952ad-3c4a-4327-83f7-3f379391bce5",
   "metadata": {},
   "outputs": [
    {
     "data": {
      "text/plain": [
       "array([[ 1,  2,  1,  4],\n",
       "       [ 3,  4,  9, 16]])"
      ]
     },
     "execution_count": 15,
     "metadata": {},
     "output_type": "execute_result"
    }
   ],
   "source": [
    "x_transformed"
   ]
  },
  {
   "cell_type": "code",
   "execution_count": null,
   "id": "6b369c7b-9d7f-4e74-a000-cf550366528d",
   "metadata": {},
   "outputs": [],
   "source": []
  },
  {
   "cell_type": "code",
   "execution_count": 16,
   "id": "e16a9f5a-9e33-4263-8d67-549e413fa4b4",
   "metadata": {},
   "outputs": [],
   "source": [
    "# Scaling And Normalization"
   ]
  },
  {
   "cell_type": "code",
   "execution_count": 17,
   "id": "a26ae66a-c79a-4b05-83b7-ae12bc23e539",
   "metadata": {},
   "outputs": [],
   "source": [
    "from sklearn.preprocessing import FunctionTransformer\n",
    "import numpy as np"
   ]
  },
  {
   "cell_type": "code",
   "execution_count": 18,
   "id": "d4399245-a49c-4861-9718-3d4c5b9f9f6b",
   "metadata": {},
   "outputs": [],
   "source": [
    "x = np.array([[1, 2], [3, 4]])"
   ]
  },
  {
   "cell_type": "code",
   "execution_count": 19,
   "id": "ab3a2146-4c8a-4c84-b0ea-eeb062e1f9d6",
   "metadata": {},
   "outputs": [],
   "source": [
    "def my_scaling(x):\n",
    "    return x/np.max(x)"
   ]
  },
  {
   "cell_type": "code",
   "execution_count": 20,
   "id": "edec54aa-cc81-49bd-bfc0-bc70fa5fd930",
   "metadata": {},
   "outputs": [],
   "source": [
    "custom_transformer = FunctionTransformer(my_scaling)"
   ]
  },
  {
   "cell_type": "code",
   "execution_count": 21,
   "id": "63dc0e57-35ec-41e7-821d-cadb9ca6b2dd",
   "metadata": {},
   "outputs": [],
   "source": [
    "x_transformed = custom_transformer.transform(x)"
   ]
  },
  {
   "cell_type": "code",
   "execution_count": 22,
   "id": "b438e8bf-7d24-43ca-ae64-acd175cff5f2",
   "metadata": {},
   "outputs": [
    {
     "data": {
      "text/plain": [
       "array([[0.25, 0.5 ],\n",
       "       [0.75, 1.  ]])"
      ]
     },
     "execution_count": 22,
     "metadata": {},
     "output_type": "execute_result"
    }
   ],
   "source": [
    "x_transformed"
   ]
  },
  {
   "cell_type": "code",
   "execution_count": null,
   "id": "5c79e906-c36e-424b-9476-b283dc2f014d",
   "metadata": {},
   "outputs": [],
   "source": []
  },
  {
   "cell_type": "code",
   "execution_count": 23,
   "id": "00f5f73e-bf08-4292-aeef-9ebb36004330",
   "metadata": {},
   "outputs": [],
   "source": [
    "# data cleaning"
   ]
  },
  {
   "cell_type": "code",
   "execution_count": 29,
   "id": "848ad847-e1a1-4de0-9519-443dc313a843",
   "metadata": {},
   "outputs": [],
   "source": [
    "from sklearn.preprocessing import FunctionTransformer\n",
    "import numpy as np"
   ]
  },
  {
   "cell_type": "code",
   "execution_count": 30,
   "id": "2c37fd5c-2f8d-4b93-b085-ae883b17d79c",
   "metadata": {},
   "outputs": [],
   "source": [
    "x = np.array([[1, 2], [3, np.nan]])"
   ]
  },
  {
   "cell_type": "code",
   "execution_count": 31,
   "id": "c812afd8-d431-47a7-b812-dec2d8bd72e8",
   "metadata": {},
   "outputs": [],
   "source": [
    "def my_scaling(x):\n",
    "    x[np.isnan(x)] = 0\n",
    "    return x"
   ]
  },
  {
   "cell_type": "code",
   "execution_count": 32,
   "id": "6236ad5d-12be-4e63-911a-e42f7fbe3936",
   "metadata": {},
   "outputs": [],
   "source": [
    "custom_transformer = FunctionTransformer(my_scaling)"
   ]
  },
  {
   "cell_type": "code",
   "execution_count": 33,
   "id": "e844cd1a-c4d9-437a-a741-8dcfe52494f1",
   "metadata": {},
   "outputs": [],
   "source": [
    "x_transformed = custom_transformer.transform(x)"
   ]
  },
  {
   "cell_type": "code",
   "execution_count": 34,
   "id": "8b6d11b7-83b7-4a6a-9da9-e8b30e39b467",
   "metadata": {},
   "outputs": [
    {
     "data": {
      "text/plain": [
       "array([[1., 2.],\n",
       "       [3., 0.]])"
      ]
     },
     "execution_count": 34,
     "metadata": {},
     "output_type": "execute_result"
    }
   ],
   "source": [
    "x_transformed"
   ]
  },
  {
   "cell_type": "code",
   "execution_count": null,
   "id": "9bdac131-a851-42af-9206-ea4c9f47ee9d",
   "metadata": {},
   "outputs": [],
   "source": []
  },
  {
   "cell_type": "code",
   "execution_count": null,
   "id": "c7f76f0d-0f9e-4bd4-8211-d18f09ea8173",
   "metadata": {},
   "outputs": [],
   "source": []
  },
  {
   "cell_type": "code",
   "execution_count": 38,
   "id": "f49d87a7-ace9-40f7-a5da-1615b2c6f6f8",
   "metadata": {},
   "outputs": [],
   "source": [
    "import numpy as np\n",
    "import pandas as pd"
   ]
  },
  {
   "cell_type": "code",
   "execution_count": 40,
   "id": "21d43db9-18d5-41d3-95ab-f1d568cc2cfe",
   "metadata": {},
   "outputs": [],
   "source": [
    "df = pd.read_csv('placement.csv')"
   ]
  },
  {
   "cell_type": "code",
   "execution_count": 41,
   "id": "8ab7a477-66ee-4c22-a04a-729f0df44e85",
   "metadata": {},
   "outputs": [],
   "source": [
    "x = df.drop(columns = ['placed'])"
   ]
  },
  {
   "cell_type": "code",
   "execution_count": 42,
   "id": "f74e5eb5-df97-4248-9ebf-eb755034dd34",
   "metadata": {},
   "outputs": [],
   "source": [
    "y = df['placed']"
   ]
  },
  {
   "cell_type": "code",
   "execution_count": null,
   "id": "5ced5ea3-8fe6-4599-a893-6f1d03e1f3ad",
   "metadata": {},
   "outputs": [],
   "source": []
  }
 ],
 "metadata": {
  "kernelspec": {
   "display_name": "Python 3 (ipykernel)",
   "language": "python",
   "name": "python3"
  },
  "language_info": {
   "codemirror_mode": {
    "name": "ipython",
    "version": 3
   },
   "file_extension": ".py",
   "mimetype": "text/x-python",
   "name": "python",
   "nbconvert_exporter": "python",
   "pygments_lexer": "ipython3",
   "version": "3.12.7"
  }
 },
 "nbformat": 4,
 "nbformat_minor": 5
}
