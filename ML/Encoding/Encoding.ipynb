{
 "cells": [
  {
   "cell_type": "code",
   "execution_count": 1,
   "id": "0be333ae-9fff-46f0-ad2a-dca464f3b9d1",
   "metadata": {},
   "outputs": [],
   "source": [
    "from sklearn.preprocessing import OneHotEncoder, LabelEncoder\n",
    "import numpy as np\n",
    "import pandas as pd"
   ]
  },
  {
   "cell_type": "code",
   "execution_count": 2,
   "id": "7c50204a-262e-4fe5-b56f-f206a91862cd",
   "metadata": {},
   "outputs": [],
   "source": [
    "data = np.array(['cat', 'dog', 'rabbit'])"
   ]
  },
  {
   "cell_type": "code",
   "execution_count": 3,
   "id": "befd15d9-dd51-426b-b1b8-bafa02381f82",
   "metadata": {},
   "outputs": [
    {
     "data": {
      "text/plain": [
       "array([0, 1, 2])"
      ]
     },
     "execution_count": 3,
     "metadata": {},
     "output_type": "execute_result"
    }
   ],
   "source": [
    "# Label Encoding\n",
    "label_encoder = LabelEncoder()\n",
    "encoded_labels = label_encoder.fit_transform(data)\n",
    "encoded_labels"
   ]
  },
  {
   "cell_type": "code",
   "execution_count": 4,
   "id": "264ea784-ff7f-4318-8aba-d6356dc2d627",
   "metadata": {},
   "outputs": [],
   "source": [
    "data = np.array([['cat'], \n",
    "                 ['dog'], \n",
    "                 ['rabbit']])"
   ]
  },
  {
   "cell_type": "code",
   "execution_count": 5,
   "id": "16c2a1aa-671f-4af3-bbff-228e703dd264",
   "metadata": {},
   "outputs": [
    {
     "data": {
      "text/plain": [
       "array([[1., 0., 0.],\n",
       "       [0., 1., 0.],\n",
       "       [0., 0., 1.]])"
      ]
     },
     "execution_count": 5,
     "metadata": {},
     "output_type": "execute_result"
    }
   ],
   "source": [
    "# One-hot-Encoding\n",
    "one_hot_encoder = OneHotEncoder()\n",
    "encoded_onehot = one_hot_encoder.fit_transform(data).toarray()\n",
    "encoded_onehot"
   ]
  },
  {
   "cell_type": "code",
   "execution_count": null,
   "id": "93c7f5f1-56f8-4a01-a187-36d6ae40f715",
   "metadata": {},
   "outputs": [],
   "source": []
  },
  {
   "cell_type": "code",
   "execution_count": null,
   "id": "845b655f-4f56-4fee-b8a6-527cd7f0c36d",
   "metadata": {},
   "outputs": [],
   "source": []
  }
 ],
 "metadata": {
  "kernelspec": {
   "display_name": "Python 3 (ipykernel)",
   "language": "python",
   "name": "python3"
  },
  "language_info": {
   "codemirror_mode": {
    "name": "ipython",
    "version": 3
   },
   "file_extension": ".py",
   "mimetype": "text/x-python",
   "name": "python",
   "nbconvert_exporter": "python",
   "pygments_lexer": "ipython3",
   "version": "3.12.7"
  }
 },
 "nbformat": 4,
 "nbformat_minor": 5
}
